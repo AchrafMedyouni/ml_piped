{
 "cells": [
  {
   "cell_type": "markdown",
   "metadata": {},
   "source": [
    "#### Correct Pipeline #1\n",
    "##### Pipeline splits raw data into train and test at the beginning of data preparation\n",
    "##### Pipeline uses an extract of the COMPAS dataset at datasets\\compas-scores-two-years.csv"
   ]
  },
  {
   "cell_type": "code",
   "execution_count": 1,
   "metadata": {},
   "outputs": [],
   "source": [
    "# All imports\n",
    "import os\n",
    "from pathlib import Path\n",
    "import pandas as pd\n",
    "from sklearn.compose import ColumnTransformer\n",
    "from sklearn.impute import SimpleImputer\n",
    "from sklearn.linear_model import LogisticRegression\n",
    "from sklearn.pipeline import Pipeline\n",
    "from sklearn.preprocessing import OneHotEncoder, KBinsDiscretizer, label_binarize\n",
    "from sklearn.model_selection import train_test_split\n",
    "from sklearn.metrics import classification_report"
   ]
  },
  {
   "cell_type": "code",
   "execution_count": 2,
   "metadata": {},
   "outputs": [
    {
     "name": "stdout",
     "output_type": "stream",
     "text": [
      "c:\\Users\\Shreya\\OneDrive\\Desktop\\data_prep_issues\n"
     ]
    }
   ],
   "source": [
    "# Getting the project root\n",
    "project_root = Path.cwd().parent.parent\n",
    "print(project_root)"
   ]
  },
  {
   "cell_type": "markdown",
   "metadata": {},
   "source": [
    "#### Importing Data Files"
   ]
  },
  {
   "cell_type": "code",
   "execution_count": 3,
   "metadata": {},
   "outputs": [
    {
     "name": "stdout",
     "output_type": "stream",
     "text": [
      "   id                name   first         last compas_screening_date   sex         dob  age          age_cat              race  juv_fel_count  decile_score  juv_misd_count  juv_other_count  priors_count  days_b_screening_arrest            c_jail_in           c_jail_out  c_case_number c_offense_date c_arrest_date  c_days_from_compas c_charge_degree                   c_charge_desc  is_recid  r_case_number r_charge_degree  r_days_from_arrest r_offense_date                r_charge_desc   r_jail_in  r_jail_out  violent_recid  is_violent_recid vr_case_number vr_charge_degree vr_offense_date               vr_charge_desc  type_of_assessment  decile_score.1 score_text screening_date v_type_of_assessment  v_decile_score v_score_text v_screening_date  in_custody out_custody  priors_count.1  start   end  event  two_year_recid\n",
      "0   1    miguel hernandez  miguel    hernandez            2013-08-14  Male  1947-04-18   69  Greater than 45             Other              0             1               0                0             0                     -1.0  2013-08-13 06:03:42  2013-08-14 05:41:20  13011352CF10A     2013-08-13           NaN                 1.0               F    Aggravated Assault w/Firearm         0            NaN             NaN                 NaN            NaN                          NaN         NaN         NaN            NaN                 0            NaN              NaN             NaN                          NaN  Risk of Recidivism               1        Low     2013-08-14     Risk of Violence               1          Low       2013-08-14  2014-07-07  2014-07-14               0      0   327      0               0\n",
      "1   3         kevon dixon   kevon        dixon            2013-01-27  Male  1982-01-22   34          25 - 45  African-American              0             3               0                0             0                     -1.0  2013-01-26 03:45:27  2013-02-05 05:36:53  13001275CF10A     2013-01-26           NaN                 1.0               F  Felony Battery w/Prior Convict         1  13009779CF10A            (F3)                 NaN     2013-07-05  Felony Battery (Dom Strang)         NaN         NaN            NaN                 1  13009779CF10A             (F3)      2013-07-05  Felony Battery (Dom Strang)  Risk of Recidivism               3        Low     2013-01-27     Risk of Violence               1          Low       2013-01-27  2013-01-26  2013-02-05               0      9   159      1               1\n",
      "2   4            ed philo      ed        philo            2013-04-14  Male  1991-05-14   24     Less than 25  African-American              0             4               0                1             4                     -1.0  2013-04-13 04:58:34  2013-04-14 07:02:04  13005330CF10A     2013-04-13           NaN                 1.0               F           Possession of Cocaine         1  13011511MM10A            (M1)                 0.0     2013-06-16  Driving Under The Influence  2013-06-16  2013-06-16            NaN                 0            NaN              NaN             NaN                          NaN  Risk of Recidivism               4        Low     2013-04-14     Risk of Violence               3          Low       2013-04-14  2013-06-16  2013-06-16               4      0    63      0               1\n",
      "3   5         marcu brown   marcu        brown            2013-01-13  Male  1993-01-21   23     Less than 25  African-American              0             8               1                0             1                      NaN                  NaN                  NaN  13000570CF10A     2013-01-12           NaN                 1.0               F          Possession of Cannabis         0            NaN             NaN                 NaN            NaN                          NaN         NaN         NaN            NaN                 0            NaN              NaN             NaN                          NaN  Risk of Recidivism               8       High     2013-01-13     Risk of Violence               6       Medium       2013-01-13         NaN         NaN               1      0  1174      0               0\n",
      "4   6  bouthy pierrelouis  bouthy  pierrelouis            2013-03-26  Male  1973-01-22   43          25 - 45             Other              0             1               0                0             2                      NaN                  NaN                  NaN  12014130CF10A            NaN    2013-01-09                76.0               F           arrest case no charge         0            NaN             NaN                 NaN            NaN                          NaN         NaN         NaN            NaN                 0            NaN              NaN             NaN                          NaN  Risk of Recidivism               1        Low     2013-03-26     Risk of Violence               1          Low       2013-03-26         NaN         NaN               2      0  1102      0               0\n",
      "Shape: (7214, 53)\n"
     ]
    }
   ],
   "source": [
    "# Getting the raw data file\n",
    "raw_data_file = os.path.join(project_root, \"datasets\", \"compas-scores-two-years.csv\")\n",
    "raw_data = pd.read_csv(raw_data_file)\n",
    "print(raw_data.head().to_string())\n",
    "print(\"Shape:\", raw_data.shape)"
   ]
  },
  {
   "cell_type": "markdown",
   "metadata": {},
   "source": [
    "#### Data Splitting"
   ]
  },
  {
   "cell_type": "code",
   "execution_count": 4,
   "metadata": {},
   "outputs": [
    {
     "name": "stdout",
     "output_type": "stream",
     "text": [
      "Shape of training data: (5771, 53)\n",
      "Shape of testing data: (1443, 53)\n"
     ]
    }
   ],
   "source": [
    "# Data Splitting before preparation\n",
    "\n",
    "train_data, test_data = train_test_split(raw_data, test_size=0.2, random_state=42)\n",
    "print(\"Shape of training data:\", train_data.shape)\n",
    "print(\"Shape of testing data:\", test_data.shape)"
   ]
  },
  {
   "cell_type": "markdown",
   "metadata": {},
   "source": [
    "#### Data Preparation"
   ]
  },
  {
   "cell_type": "code",
   "execution_count": 5,
   "metadata": {},
   "outputs": [
    {
     "name": "stdout",
     "output_type": "stream",
     "text": [
      "Training data:\n",
      "         sex         dob  age c_charge_degree              race score_text  priors_count  days_b_screening_arrest  decile_score  is_recid  two_year_recid            c_jail_in           c_jail_out\n",
      "3307    Male  1987-04-29   28               F         Caucasian        Low             2                     -1.0             2         1               1  2013-10-03 03:57:15  2013-10-13 05:03:29\n",
      "911     Male  1969-06-14   46               F  African-American        Low             2                      0.0             2         1               1  2013-01-22 02:31:25  2013-01-31 09:56:34\n",
      "6532  Female  1993-09-04   22               M  African-American     Medium             0                     -1.0             6         0               0  2013-10-07 03:03:48  2013-10-08 08:59:33\n",
      "6233    Male  1989-06-08   26               F  African-American        Low             1                     -1.0             4         0               0  2013-10-11 09:46:40  2013-10-12 07:56:28\n",
      "3355    Male  1994-08-09   21               F         Caucasian     Medium             0                     -1.0             7         1               1  2014-01-16 08:24:21  2014-01-17 02:18:46\n",
      "Shape: (5771, 13)\n",
      "Testing data:\n",
      "         sex         dob  age c_charge_degree              race score_text  priors_count  days_b_screening_arrest  decile_score  is_recid  two_year_recid            c_jail_in           c_jail_out\n",
      "308     Male  1953-06-15   62               F         Caucasian        Low             0                      0.0             1         0               0  2013-01-05 04:35:31  2013-01-07 03:18:03\n",
      "381     Male  1987-10-01   28               M  African-American        Low             1                     -1.0             3         0               0  2013-04-02 12:18:46  2013-04-04 07:54:22\n",
      "3238    Male  1959-01-12   57               M  African-American        Low             8                      0.0             4         1               1  2014-10-31 12:02:01  2014-10-31 01:47:05\n",
      "2312    Male  1996-07-11   19               F  African-American       High             1                      0.0            10         1               1  2014-01-23 03:19:30  2014-01-23 01:04:34\n",
      "251   Female  1978-06-06   37               M             Other        Low             0                     -1.0             1         0               0  2013-12-08 01:55:28  2013-12-09 02:00:59\n",
      "Shape: (1443, 13)\n"
     ]
    }
   ],
   "source": [
    "# Data Extraction\n",
    "train_data = train_data[\n",
    "    ['sex', 'dob', 'age', 'c_charge_degree', 'race', 'score_text', 'priors_count', 'days_b_screening_arrest',\n",
    "     'decile_score', 'is_recid', 'two_year_recid', 'c_jail_in', 'c_jail_out']]\n",
    "\n",
    "test_data = test_data[\n",
    "    ['sex', 'dob', 'age', 'c_charge_degree', 'race', 'score_text', 'priors_count', 'days_b_screening_arrest',\n",
    "     'decile_score', 'is_recid', 'two_year_recid', 'c_jail_in', 'c_jail_out']]\n",
    "\n",
    "print(\"Training data:\")\n",
    "print(train_data.head().to_string())\n",
    "print(\"Shape:\", train_data.shape)\n",
    "\n",
    "print(\"Testing data:\")\n",
    "print(test_data.head().to_string())\n",
    "print(\"Shape:\", test_data.shape)"
   ]
  },
  {
   "cell_type": "code",
   "execution_count": 6,
   "metadata": {},
   "outputs": [
    {
     "name": "stdout",
     "output_type": "stream",
     "text": [
      "Training data:\n",
      "         sex         dob  age c_charge_degree              race score_text  priors_count  days_b_screening_arrest  decile_score  is_recid  two_year_recid            c_jail_in           c_jail_out\n",
      "3307    Male  1987-04-29   28               F         Caucasian        Low             2                     -1.0             2         1               1  2013-10-03 03:57:15  2013-10-13 05:03:29\n",
      "911     Male  1969-06-14   46               F  African-American        Low             2                      0.0             2         1               1  2013-01-22 02:31:25  2013-01-31 09:56:34\n",
      "6532  Female  1993-09-04   22               M  African-American        Low             0                     -1.0             6         0               0  2013-10-07 03:03:48  2013-10-08 08:59:33\n",
      "6233    Male  1989-06-08   26               F  African-American        Low             1                     -1.0             4         0               0  2013-10-11 09:46:40  2013-10-12 07:56:28\n",
      "3355    Male  1994-08-09   21               F         Caucasian        Low             0                     -1.0             7         1               1  2014-01-16 08:24:21  2014-01-17 02:18:46\n",
      "Shape: (4937, 13)\n",
      "Testing data:\n",
      "         sex         dob  age c_charge_degree              race score_text  priors_count  days_b_screening_arrest  decile_score  is_recid  two_year_recid            c_jail_in           c_jail_out\n",
      "308     Male  1953-06-15   62               F         Caucasian        Low             0                      0.0             1         0               0  2013-01-05 04:35:31  2013-01-07 03:18:03\n",
      "381     Male  1987-10-01   28               M  African-American        Low             1                     -1.0             3         0               0  2013-04-02 12:18:46  2013-04-04 07:54:22\n",
      "3238    Male  1959-01-12   57               M  African-American        Low             8                      0.0             4         1               1  2014-10-31 12:02:01  2014-10-31 01:47:05\n",
      "2312    Male  1996-07-11   19               F  African-American       High             1                      0.0            10         1               1  2014-01-23 03:19:30  2014-01-23 01:04:34\n",
      "251   Female  1978-06-06   37               M             Other        Low             0                     -1.0             1         0               0  2013-12-08 01:55:28  2013-12-09 02:00:59\n",
      "Shape: (1443, 13)\n"
     ]
    }
   ],
   "source": [
    "# Data Filtering\n",
    "train_data = train_data[(train_data['days_b_screening_arrest'] <= 30) & (train_data['days_b_screening_arrest'] >= -30)]\n",
    "train_data = train_data[train_data['is_recid'] != -1]\n",
    "train_data = train_data[train_data['c_charge_degree'] != \"O\"]\n",
    "train_data = train_data[train_data['score_text'] != 'N/A']\n",
    "\n",
    "\n",
    "train_data = train_data.replace('Medium', \"Low\")\n",
    "test_data = test_data.replace('Medium', \"Low\")\n",
    "\n",
    "print(\"Training data:\")\n",
    "print(train_data.head().to_string())\n",
    "print(\"Shape:\", train_data.shape)\n",
    "\n",
    "print(\"Testing data:\")\n",
    "print(test_data.head().to_string())\n",
    "print(\"Shape:\", test_data.shape)"
   ]
  },
  {
   "cell_type": "code",
   "execution_count": 7,
   "metadata": {},
   "outputs": [],
   "source": [
    "# Binarizing labels\n",
    "train_labels = label_binarize(train_data['score_text'], classes=['High', 'Low'])\n",
    "test_labels = label_binarize(test_data['score_text'], classes=['High', 'Low'])"
   ]
  },
  {
   "cell_type": "code",
   "execution_count": 8,
   "metadata": {},
   "outputs": [],
   "source": [
    "# Data Preparation Pipeline (Imputation, Encoding, Discretization)\n",
    "impute1_and_onehot = Pipeline([('imputer1', SimpleImputer(strategy='most_frequent')),\n",
    "                               ('onehot', OneHotEncoder(handle_unknown='ignore'))])\n",
    "impute2_and_bin = Pipeline([('imputer2', SimpleImputer(strategy='mean')),\n",
    "                            ('discretizer', KBinsDiscretizer(n_bins=4, encode='ordinal', strategy='uniform'))])\n",
    "\n",
    "featurizer = ColumnTransformer(transformers=[\n",
    "    ('impute1_and_onehot', impute1_and_onehot, ['is_recid']),\n",
    "    ('impute2_and_bin', impute2_and_bin, ['age'])\n",
    "])\n",
    "\n",
    "pipeline = Pipeline([\n",
    "    ('features', featurizer),\n",
    "    ('classifier', LogisticRegression())\n",
    "])"
   ]
  },
  {
   "cell_type": "markdown",
   "metadata": {},
   "source": [
    "#### Model Training and Evaluation"
   ]
  },
  {
   "cell_type": "code",
   "execution_count": 9,
   "metadata": {},
   "outputs": [
    {
     "name": "stdout",
     "output_type": "stream",
     "text": [
      "0.796950796950797\n"
     ]
    }
   ],
   "source": [
    "# Model Evaluation\n",
    "pipeline.fit(train_data, train_labels.ravel())\n",
    "print(pipeline.score(test_data, test_labels.ravel()))"
   ]
  },
  {
   "cell_type": "code",
   "execution_count": 10,
   "metadata": {},
   "outputs": [
    {
     "name": "stdout",
     "output_type": "stream",
     "text": [
      "              precision    recall  f1-score   support\n",
      "\n",
      "           0       0.00      0.00      0.00       293\n",
      "           1       0.80      1.00      0.89      1150\n",
      "\n",
      "    accuracy                           0.80      1443\n",
      "   macro avg       0.40      0.50      0.44      1443\n",
      "weighted avg       0.64      0.80      0.71      1443\n",
      "\n"
     ]
    },
    {
     "name": "stderr",
     "output_type": "stream",
     "text": [
      "C:\\Users\\Shreya\\AppData\\Roaming\\Python\\Python311\\site-packages\\sklearn\\metrics\\_classification.py:1344: UndefinedMetricWarning: Precision and F-score are ill-defined and being set to 0.0 in labels with no predicted samples. Use `zero_division` parameter to control this behavior.\n",
      "  _warn_prf(average, modifier, msg_start, len(result))\n",
      "C:\\Users\\Shreya\\AppData\\Roaming\\Python\\Python311\\site-packages\\sklearn\\metrics\\_classification.py:1344: UndefinedMetricWarning: Precision and F-score are ill-defined and being set to 0.0 in labels with no predicted samples. Use `zero_division` parameter to control this behavior.\n",
      "  _warn_prf(average, modifier, msg_start, len(result))\n",
      "C:\\Users\\Shreya\\AppData\\Roaming\\Python\\Python311\\site-packages\\sklearn\\metrics\\_classification.py:1344: UndefinedMetricWarning: Precision and F-score are ill-defined and being set to 0.0 in labels with no predicted samples. Use `zero_division` parameter to control this behavior.\n",
      "  _warn_prf(average, modifier, msg_start, len(result))\n"
     ]
    }
   ],
   "source": [
    "# Classification Report\n",
    "print(classification_report(test_labels, pipeline.predict(test_data)))"
   ]
  }
 ],
 "metadata": {
  "kernelspec": {
   "display_name": "Python 3",
   "language": "python",
   "name": "python3"
  },
  "language_info": {
   "codemirror_mode": {
    "name": "ipython",
    "version": 3
   },
   "file_extension": ".py",
   "mimetype": "text/x-python",
   "name": "python",
   "nbconvert_exporter": "python",
   "pygments_lexer": "ipython3",
   "version": "3.11.0"
  }
 },
 "nbformat": 4,
 "nbformat_minor": 2
}
