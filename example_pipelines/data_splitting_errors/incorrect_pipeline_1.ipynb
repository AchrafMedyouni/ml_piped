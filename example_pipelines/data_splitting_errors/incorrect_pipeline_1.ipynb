{
 "cells": [
  {
   "cell_type": "markdown",
   "metadata": {},
   "source": [
    "### Incorrect Pipeline #1\n",
    "##### Pipeline splits raw data into train and test at the end of data preparation\n",
    "##### Pipeline uses an extract of the COMPAS dataset at datasets\\compas-scores-two-years.csv"
   ]
  },
  {
   "cell_type": "code",
   "execution_count": 25,
   "metadata": {},
   "outputs": [],
   "source": [
    "# All imports\n",
    "\n",
    "import os\n",
    "from pathlib import Path\n",
    "import pandas as pd\n",
    "from sklearn.compose import ColumnTransformer\n",
    "from sklearn.impute import SimpleImputer\n",
    "from sklearn.linear_model import LogisticRegression\n",
    "from sklearn.pipeline import Pipeline\n",
    "from sklearn.preprocessing import OneHotEncoder, KBinsDiscretizer, label_binarize\n",
    "from sklearn.model_selection import train_test_split\n",
    "from sklearn.metrics import classification_report"
   ]
  },
  {
   "cell_type": "code",
   "execution_count": 26,
   "metadata": {},
   "outputs": [
    {
     "name": "stdout",
     "output_type": "stream",
     "text": [
      "c:\\Users\\Shreya\\OneDrive\\Desktop\\data_prep_issues\n"
     ]
    }
   ],
   "source": [
    "# Getting the project root\n",
    "project_root = Path.cwd().parent.parent\n",
    "print(project_root)"
   ]
  },
  {
   "cell_type": "code",
   "execution_count": 27,
   "metadata": {},
   "outputs": [
    {
     "name": "stdout",
     "output_type": "stream",
     "text": [
      "   id                name   first         last compas_screening_date   sex         dob  age          age_cat              race  juv_fel_count  decile_score  juv_misd_count  juv_other_count  priors_count  days_b_screening_arrest            c_jail_in           c_jail_out  c_case_number c_offense_date c_arrest_date  c_days_from_compas c_charge_degree                   c_charge_desc  is_recid  r_case_number r_charge_degree  r_days_from_arrest r_offense_date                r_charge_desc   r_jail_in  r_jail_out  violent_recid  is_violent_recid vr_case_number vr_charge_degree vr_offense_date               vr_charge_desc  type_of_assessment  decile_score.1 score_text screening_date v_type_of_assessment  v_decile_score v_score_text v_screening_date  in_custody out_custody  priors_count.1  start   end  event  two_year_recid\n",
      "0   1    miguel hernandez  miguel    hernandez            2013-08-14  Male  1947-04-18   69  Greater than 45             Other              0             1               0                0             0                     -1.0  2013-08-13 06:03:42  2013-08-14 05:41:20  13011352CF10A     2013-08-13           NaN                 1.0               F    Aggravated Assault w/Firearm         0            NaN             NaN                 NaN            NaN                          NaN         NaN         NaN            NaN                 0            NaN              NaN             NaN                          NaN  Risk of Recidivism               1        Low     2013-08-14     Risk of Violence               1          Low       2013-08-14  2014-07-07  2014-07-14               0      0   327      0               0\n",
      "1   3         kevon dixon   kevon        dixon            2013-01-27  Male  1982-01-22   34          25 - 45  African-American              0             3               0                0             0                     -1.0  2013-01-26 03:45:27  2013-02-05 05:36:53  13001275CF10A     2013-01-26           NaN                 1.0               F  Felony Battery w/Prior Convict         1  13009779CF10A            (F3)                 NaN     2013-07-05  Felony Battery (Dom Strang)         NaN         NaN            NaN                 1  13009779CF10A             (F3)      2013-07-05  Felony Battery (Dom Strang)  Risk of Recidivism               3        Low     2013-01-27     Risk of Violence               1          Low       2013-01-27  2013-01-26  2013-02-05               0      9   159      1               1\n",
      "2   4            ed philo      ed        philo            2013-04-14  Male  1991-05-14   24     Less than 25  African-American              0             4               0                1             4                     -1.0  2013-04-13 04:58:34  2013-04-14 07:02:04  13005330CF10A     2013-04-13           NaN                 1.0               F           Possession of Cocaine         1  13011511MM10A            (M1)                 0.0     2013-06-16  Driving Under The Influence  2013-06-16  2013-06-16            NaN                 0            NaN              NaN             NaN                          NaN  Risk of Recidivism               4        Low     2013-04-14     Risk of Violence               3          Low       2013-04-14  2013-06-16  2013-06-16               4      0    63      0               1\n",
      "3   5         marcu brown   marcu        brown            2013-01-13  Male  1993-01-21   23     Less than 25  African-American              0             8               1                0             1                      NaN                  NaN                  NaN  13000570CF10A     2013-01-12           NaN                 1.0               F          Possession of Cannabis         0            NaN             NaN                 NaN            NaN                          NaN         NaN         NaN            NaN                 0            NaN              NaN             NaN                          NaN  Risk of Recidivism               8       High     2013-01-13     Risk of Violence               6       Medium       2013-01-13         NaN         NaN               1      0  1174      0               0\n",
      "4   6  bouthy pierrelouis  bouthy  pierrelouis            2013-03-26  Male  1973-01-22   43          25 - 45             Other              0             1               0                0             2                      NaN                  NaN                  NaN  12014130CF10A            NaN    2013-01-09                76.0               F           arrest case no charge         0            NaN             NaN                 NaN            NaN                          NaN         NaN         NaN            NaN                 0            NaN              NaN             NaN                          NaN  Risk of Recidivism               1        Low     2013-03-26     Risk of Violence               1          Low       2013-03-26         NaN         NaN               2      0  1102      0               0\n",
      "Shape: (7214, 53)\n"
     ]
    }
   ],
   "source": [
    "# Getting the raw data file\n",
    "raw_data_file = os.path.join(project_root, \"datasets\", \"compas-scores-two-years.csv\")\n",
    "raw_data = pd.read_csv(raw_data_file)\n",
    "print(raw_data.head().to_string())\n",
    "print(\"Shape:\", raw_data.shape)"
   ]
  },
  {
   "cell_type": "markdown",
   "metadata": {},
   "source": [
    "##### Data Preparation"
   ]
  },
  {
   "cell_type": "code",
   "execution_count": 28,
   "metadata": {},
   "outputs": [
    {
     "name": "stdout",
     "output_type": "stream",
     "text": [
      "    sex         dob  age c_charge_degree              race score_text  priors_count  days_b_screening_arrest  decile_score  is_recid  two_year_recid            c_jail_in           c_jail_out\n",
      "0  Male  1947-04-18   69               F             Other        Low             0                     -1.0             1         0               0  2013-08-13 06:03:42  2013-08-14 05:41:20\n",
      "1  Male  1982-01-22   34               F  African-American        Low             0                     -1.0             3         1               1  2013-01-26 03:45:27  2013-02-05 05:36:53\n",
      "2  Male  1991-05-14   24               F  African-American        Low             4                     -1.0             4         1               1  2013-04-13 04:58:34  2013-04-14 07:02:04\n",
      "3  Male  1993-01-21   23               F  African-American       High             1                      NaN             8         0               0                  NaN                  NaN\n",
      "4  Male  1973-01-22   43               F             Other        Low             2                      NaN             1         0               0                  NaN                  NaN\n",
      "Shape: (7214, 13)\n"
     ]
    }
   ],
   "source": [
    "# Data preparation steps. Note: Data has not been split yet.\n",
    "\n",
    "# Data Extraction\n",
    "raw_data = raw_data[\n",
    "    ['sex', 'dob', 'age', 'c_charge_degree', 'race', 'score_text', 'priors_count', 'days_b_screening_arrest',\n",
    "     'decile_score', 'is_recid', 'two_year_recid', 'c_jail_in', 'c_jail_out']]\n",
    "\n",
    "print(raw_data.head().to_string())\n",
    "print(\"Shape:\", raw_data.shape)"
   ]
  },
  {
   "cell_type": "code",
   "execution_count": 29,
   "metadata": {},
   "outputs": [
    {
     "name": "stdout",
     "output_type": "stream",
     "text": [
      "    sex         dob  age c_charge_degree              race score_text  priors_count  days_b_screening_arrest  decile_score  is_recid  two_year_recid            c_jail_in           c_jail_out\n",
      "0  Male  1947-04-18   69               F             Other        Low             0                     -1.0             1         0               0  2013-08-13 06:03:42  2013-08-14 05:41:20\n",
      "1  Male  1982-01-22   34               F  African-American        Low             0                     -1.0             3         1               1  2013-01-26 03:45:27  2013-02-05 05:36:53\n",
      "2  Male  1991-05-14   24               F  African-American        Low             4                     -1.0             4         1               1  2013-04-13 04:58:34  2013-04-14 07:02:04\n",
      "5  Male  1971-08-22   44               M             Other        Low             0                      0.0             1         0               0  2013-11-30 04:50:18  2013-12-01 12:28:56\n",
      "6  Male  1974-07-23   41               F         Caucasian        Low            14                     -1.0             6         1               1  2014-02-18 05:08:24  2014-02-24 12:18:30\n",
      "Shape: (6172, 13)\n"
     ]
    }
   ],
   "source": [
    "# Data Filtering\n",
    "raw_data = raw_data[(raw_data['days_b_screening_arrest'] <= 30) & (raw_data['days_b_screening_arrest'] >= -30)]\n",
    "raw_data = raw_data[raw_data['is_recid'] != -1]\n",
    "raw_data = raw_data[raw_data['c_charge_degree'] != \"O\"]\n",
    "raw_data = raw_data[raw_data['score_text'] != 'N/A']\n",
    "\n",
    "\n",
    "raw_data = raw_data.replace('Medium', \"Low\")\n",
    "\n",
    "print(raw_data.head().to_string())\n",
    "print(\"Shape:\", raw_data.shape)"
   ]
  },
  {
   "cell_type": "code",
   "execution_count": 30,
   "metadata": {},
   "outputs": [
    {
     "name": "stdout",
     "output_type": "stream",
     "text": [
      "Shape of training data: (4937, 13)\n",
      "Shape of testing data: (1235, 13)\n"
     ]
    }
   ],
   "source": [
    "# Data Splitting\n",
    "\n",
    "train_data, test_data = train_test_split(raw_data, test_size=0.2, random_state=42)\n",
    "print(\"Shape of training data:\", train_data.shape)\n",
    "print(\"Shape of testing data:\", test_data.shape)"
   ]
  },
  {
   "cell_type": "code",
   "execution_count": 31,
   "metadata": {},
   "outputs": [],
   "source": [
    "train_labels = label_binarize(train_data['score_text'], classes=['High', 'Low'])\n",
    "test_labels = label_binarize(test_data['score_text'], classes=['High', 'Low'])"
   ]
  },
  {
   "cell_type": "code",
   "execution_count": 32,
   "metadata": {},
   "outputs": [],
   "source": [
    "impute1_and_onehot = Pipeline([('imputer1', SimpleImputer(strategy='most_frequent')),\n",
    "                               ('onehot', OneHotEncoder(handle_unknown='ignore'))])\n",
    "impute2_and_bin = Pipeline([('imputer2', SimpleImputer(strategy='mean')),\n",
    "                            ('discretizer', KBinsDiscretizer(n_bins=4, encode='ordinal', strategy='uniform'))])\n",
    "\n",
    "featurizer = ColumnTransformer(transformers=[\n",
    "    ('impute1_and_onehot', impute1_and_onehot, ['is_recid']),\n",
    "    ('impute2_and_bin', impute2_and_bin, ['age'])\n",
    "])\n",
    "\n",
    "pipeline = Pipeline([\n",
    "    ('features', featurizer),\n",
    "    ('classifier', LogisticRegression())\n",
    "])"
   ]
  },
  {
   "cell_type": "code",
   "execution_count": 33,
   "metadata": {},
   "outputs": [
    {
     "name": "stdout",
     "output_type": "stream",
     "text": [
      "0.8186234817813766\n"
     ]
    }
   ],
   "source": [
    "pipeline.fit(train_data, train_labels.ravel())\n",
    "print(pipeline.score(test_data, test_labels.ravel()))"
   ]
  },
  {
   "cell_type": "code",
   "execution_count": 35,
   "metadata": {},
   "outputs": [
    {
     "name": "stdout",
     "output_type": "stream",
     "text": [
      "              precision    recall  f1-score   support\n",
      "\n",
      "           0       0.00      0.00      0.00       224\n",
      "           1       0.82      1.00      0.90      1011\n",
      "\n",
      "    accuracy                           0.82      1235\n",
      "   macro avg       0.41      0.50      0.45      1235\n",
      "weighted avg       0.67      0.82      0.74      1235\n",
      "\n"
     ]
    },
    {
     "name": "stderr",
     "output_type": "stream",
     "text": [
      "C:\\Users\\Shreya\\AppData\\Roaming\\Python\\Python311\\site-packages\\sklearn\\metrics\\_classification.py:1344: UndefinedMetricWarning: Precision and F-score are ill-defined and being set to 0.0 in labels with no predicted samples. Use `zero_division` parameter to control this behavior.\n",
      "  _warn_prf(average, modifier, msg_start, len(result))\n",
      "C:\\Users\\Shreya\\AppData\\Roaming\\Python\\Python311\\site-packages\\sklearn\\metrics\\_classification.py:1344: UndefinedMetricWarning: Precision and F-score are ill-defined and being set to 0.0 in labels with no predicted samples. Use `zero_division` parameter to control this behavior.\n",
      "  _warn_prf(average, modifier, msg_start, len(result))\n",
      "C:\\Users\\Shreya\\AppData\\Roaming\\Python\\Python311\\site-packages\\sklearn\\metrics\\_classification.py:1344: UndefinedMetricWarning: Precision and F-score are ill-defined and being set to 0.0 in labels with no predicted samples. Use `zero_division` parameter to control this behavior.\n",
      "  _warn_prf(average, modifier, msg_start, len(result))\n"
     ]
    }
   ],
   "source": [
    "print(classification_report(test_labels, pipeline.predict(test_data)))"
   ]
  }
 ],
 "metadata": {
  "kernelspec": {
   "display_name": "Python 3",
   "language": "python",
   "name": "python3"
  },
  "language_info": {
   "codemirror_mode": {
    "name": "ipython",
    "version": 3
   },
   "file_extension": ".py",
   "mimetype": "text/x-python",
   "name": "python",
   "nbconvert_exporter": "python",
   "pygments_lexer": "ipython3",
   "version": "3.11.0"
  }
 },
 "nbformat": 4,
 "nbformat_minor": 2
}
